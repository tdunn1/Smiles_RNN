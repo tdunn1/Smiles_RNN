{
 "cells": [
  {
   "cell_type": "code",
   "execution_count": 10,
   "id": "ead8bbc0",
   "metadata": {},
   "outputs": [],
   "source": [
    "import pandas as pd\n",
    "import numpy as np\n",
    "\n",
    "import tensorflow as tf\n",
    "from tensorflow import keras\n",
    "from tensorflow.keras import layers"
   ]
  },
  {
   "cell_type": "code",
   "execution_count": 11,
   "id": "fa166854",
   "metadata": {},
   "outputs": [
    {
     "data": {
      "text/plain": [
       "(269, 12)"
      ]
     },
     "execution_count": 11,
     "metadata": {},
     "output_type": "execute_result"
    }
   ],
   "source": [
    "df = pd.read_csv('aspirin_like.csv')\n",
    "df.drop_duplicates('Smiles',inplace = True)\n",
    "df.shape"
   ]
  },
  {
   "cell_type": "code",
   "execution_count": 12,
   "id": "6ab56058",
   "metadata": {
    "scrolled": true
   },
   "outputs": [
    {
     "data": {
      "text/plain": [
       "'C1=CC=C(C(=C1)C(=O)O)O[N+](=O)[O-]\\n'"
      ]
     },
     "execution_count": 12,
     "metadata": {},
     "output_type": "execute_result"
    }
   ],
   "source": [
    "smiles = df['Smiles'].to_list()\n",
    "for i in range(len(smiles)): #add newline to each SMILES string\n",
    "    smiles[i] = smiles[i]+'\\n'\n",
    "smiles[1]"
   ]
  },
  {
   "cell_type": "code",
   "execution_count": 26,
   "id": "e7032087",
   "metadata": {},
   "outputs": [
    {
     "data": {
      "text/plain": [
       "(38, 18)"
      ]
     },
     "execution_count": 26,
     "metadata": {},
     "output_type": "execute_result"
    }
   ],
   "source": [
    "max_smi, min_smi = 0, len(smiles[0])\n",
    "\n",
    "for smi in smiles:\n",
    "    if len(smi) > max_smi:\n",
    "        max_smi = len(smi)\n",
    "    if len(smi) < min_smi:\n",
    "        min_smi = len(smi)\n",
    "max_smi, min_smi"
   ]
  },
  {
   "cell_type": "code",
   "execution_count": 13,
   "id": "8d962217",
   "metadata": {},
   "outputs": [],
   "source": [
    "raw_dataset = tf.data.Dataset.from_tensor_slices(smiles)"
   ]
  },
  {
   "cell_type": "code",
   "execution_count": 14,
   "id": "b9a579ff",
   "metadata": {},
   "outputs": [],
   "source": [
    "preprocess = layers.TextVectorization(standardize = None, split = 'character')\n",
    "preprocess.adapt(raw_dataset)"
   ]
  },
  {
   "cell_type": "code",
   "execution_count": 15,
   "id": "ccb2af08",
   "metadata": {},
   "outputs": [
    {
     "data": {
      "text/plain": [
       "(['',\n",
       "  '[UNK]',\n",
       "  'C',\n",
       "  '=',\n",
       "  'O',\n",
       "  ')',\n",
       "  '(',\n",
       "  '1',\n",
       "  '\\n',\n",
       "  'N',\n",
       "  'F',\n",
       "  ']',\n",
       "  '[',\n",
       "  '-',\n",
       "  'S',\n",
       "  '+',\n",
       "  'l',\n",
       "  '2',\n",
       "  'r',\n",
       "  'B',\n",
       "  'I',\n",
       "  'H',\n",
       "  '#'],\n",
       " 23)"
      ]
     },
     "execution_count": 15,
     "metadata": {},
     "output_type": "execute_result"
    }
   ],
   "source": [
    "preprocess.get_vocabulary(), preprocess.vocabulary_size()"
   ]
  },
  {
   "cell_type": "code",
   "execution_count": 16,
   "id": "8456e1c6",
   "metadata": {},
   "outputs": [
    {
     "data": {
      "text/plain": [
       "<tf.Tensor: shape=(2, 43), dtype=int64, numpy=\n",
       "array([[ 2,  7,  3,  2,  2,  3,  2,  6,  2,  3,  2,  7,  5,  2,  2,  4,\n",
       "         2,  6,  3,  4,  5,  1,  2,  3,  2,  1,  2, 17,  3,  2,  2,  6,\n",
       "         3,  2,  6,  2,  3,  2, 17,  5,  4,  5,  4],\n",
       "       [ 2,  2,  6,  3,  4,  5,  9,  2,  7,  3,  2,  2,  3,  2,  6,  2,\n",
       "         3,  2,  7,  5,  4,  0,  0,  0,  0,  0,  0,  0,  0,  0,  0,  0,\n",
       "         0,  0,  0,  0,  0,  0,  0,  0,  0,  0,  0]], dtype=int64)>"
      ]
     },
     "execution_count": 16,
     "metadata": {},
     "output_type": "execute_result"
    }
   ],
   "source": [
    "input_data = ['C1=CC=C(C=C1)CCOC(=O)/C=C/C2=CC(=C(C=C2)O)O','CC(=O)NC1=CC=C(C=C1)O']\n",
    "preprocess(input_data)"
   ]
  },
  {
   "cell_type": "code",
   "execution_count": 29,
   "id": "6d26f675",
   "metadata": {},
   "outputs": [
    {
     "data": {
      "text/plain": [
       "array([2, 2, 6, 3, 4, 5, 2, 7, 3, 2, 2, 3, 2, 2, 3, 2, 7, 4, 2, 6, 3, 4,\n",
       "       5, 2, 8], dtype=int64)"
      ]
     },
     "execution_count": 29,
     "metadata": {},
     "output_type": "execute_result"
    }
   ],
   "source": [
    "dataset = raw_dataset.map(preprocess)\n",
    "list(dataset.as_numpy_iterator())[5]"
   ]
  },
  {
   "cell_type": "code",
   "execution_count": null,
   "id": "bfb126a3",
   "metadata": {},
   "outputs": [],
   "source": []
  }
 ],
 "metadata": {
  "kernelspec": {
   "display_name": "Python 3 (ipykernel)",
   "language": "python",
   "name": "python3"
  },
  "language_info": {
   "codemirror_mode": {
    "name": "ipython",
    "version": 3
   },
   "file_extension": ".py",
   "mimetype": "text/x-python",
   "name": "python",
   "nbconvert_exporter": "python",
   "pygments_lexer": "ipython3",
   "version": "3.11.0"
  }
 },
 "nbformat": 4,
 "nbformat_minor": 5
}
