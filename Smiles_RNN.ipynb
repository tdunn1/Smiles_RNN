{
 "cells": [
  {
   "cell_type": "code",
   "execution_count": 1,
   "id": "ead8bbc0",
   "metadata": {},
   "outputs": [],
   "source": [
    "import pandas as pd\n",
    "import numpy as np\n",
    "\n",
    "import tensorflow as tf\n",
    "from tensorflow import keras\n",
    "from tensorflow.keras import layers"
   ]
  },
  {
   "cell_type": "code",
   "execution_count": 2,
   "id": "fa166854",
   "metadata": {},
   "outputs": [
    {
     "data": {
      "text/plain": [
       "(269, 12)"
      ]
     },
     "execution_count": 2,
     "metadata": {},
     "output_type": "execute_result"
    }
   ],
   "source": [
    "df = pd.read_csv('aspirin_like.csv')\n",
    "df.drop_duplicates('Smiles',inplace = True)\n",
    "df.shape"
   ]
  },
  {
   "cell_type": "code",
   "execution_count": 3,
   "id": "6ab56058",
   "metadata": {
    "scrolled": true
   },
   "outputs": [
    {
     "data": {
      "text/plain": [
       "'C1=CC=C(C(=C1)C(=O)O)O[N+](=O)[O-]\\n'"
      ]
     },
     "execution_count": 3,
     "metadata": {},
     "output_type": "execute_result"
    }
   ],
   "source": [
    "smiles = df['Smiles'].to_list()\n",
    "for i in range(len(smiles)): #add newline to each SMILES string\n",
    "    smiles[i] = smiles[i]+'\\n'\n",
    "smiles[1]"
   ]
  },
  {
   "cell_type": "code",
   "execution_count": 4,
   "id": "e7032087",
   "metadata": {},
   "outputs": [
    {
     "data": {
      "text/plain": [
       "(38, 18)"
      ]
     },
     "execution_count": 4,
     "metadata": {},
     "output_type": "execute_result"
    }
   ],
   "source": [
    "max_smi, min_smi = 0, len(smiles[0])\n",
    "\n",
    "for smi in smiles:\n",
    "    if len(smi) > max_smi:\n",
    "        max_smi = len(smi)\n",
    "    if len(smi) < min_smi:\n",
    "        min_smi = len(smi)\n",
    "max_smi, min_smi"
   ]
  },
  {
   "cell_type": "code",
   "execution_count": 5,
   "id": "968dc9fc",
   "metadata": {},
   "outputs": [
    {
     "data": {
      "text/plain": [
       "['CC(=O)OC1=', 'C(=O)OC1=C', '(=O)OC1=CC', '=O)OC1=CC=', 'O)OC1=CC=C']"
      ]
     },
     "execution_count": 5,
     "metadata": {},
     "output_type": "execute_result"
    }
   ],
   "source": [
    "features = []\n",
    "labels = []\n",
    "\n",
    "smi_len = 10 # characters from Smiles\n",
    "\n",
    "for smi in smiles:\n",
    "    for i in range(smi_len, len(smi)):\n",
    "        seq = smi[i-smi_len:i + 1]\n",
    "        features.append(seq[:-1])\n",
    "        labels.append(seq[-1])\n",
    "        \n",
    "features[:5]"
   ]
  },
  {
   "cell_type": "code",
   "execution_count": 6,
   "id": "8d962217",
   "metadata": {},
   "outputs": [],
   "source": [
    "raw_dataset = tf.data.Dataset.from_tensor_slices(smiles)"
   ]
  },
  {
   "cell_type": "code",
   "execution_count": 7,
   "id": "b9a579ff",
   "metadata": {},
   "outputs": [],
   "source": [
    "preprocess = layers.TextVectorization(standardize = None, split = 'character')\n",
    "preprocess.adapt(raw_dataset)"
   ]
  },
  {
   "cell_type": "code",
   "execution_count": 8,
   "id": "ccb2af08",
   "metadata": {},
   "outputs": [
    {
     "data": {
      "text/plain": [
       "(['',\n",
       "  '[UNK]',\n",
       "  'C',\n",
       "  '=',\n",
       "  'O',\n",
       "  ')',\n",
       "  '(',\n",
       "  '1',\n",
       "  '\\n',\n",
       "  'N',\n",
       "  'F',\n",
       "  ']',\n",
       "  '[',\n",
       "  '-',\n",
       "  'S',\n",
       "  '+',\n",
       "  'l',\n",
       "  '2',\n",
       "  'r',\n",
       "  'B',\n",
       "  'I',\n",
       "  'H',\n",
       "  '#'],\n",
       " 23)"
      ]
     },
     "execution_count": 8,
     "metadata": {},
     "output_type": "execute_result"
    }
   ],
   "source": [
    "preprocess.get_vocabulary(), preprocess.vocabulary_size()"
   ]
  },
  {
   "cell_type": "code",
   "execution_count": 9,
   "id": "8456e1c6",
   "metadata": {},
   "outputs": [
    {
     "data": {
      "text/plain": [
       "<tf.Tensor: shape=(2, 43), dtype=int64, numpy=\n",
       "array([[ 2,  7,  3,  2,  2,  3,  2,  6,  2,  3,  2,  7,  5,  2,  2,  4,\n",
       "         2,  6,  3,  4,  5,  1,  2,  3,  2,  1,  2, 17,  3,  2,  2,  6,\n",
       "         3,  2,  6,  2,  3,  2, 17,  5,  4,  5,  4],\n",
       "       [ 2,  2,  6,  3,  4,  5,  9,  2,  7,  3,  2,  2,  3,  2,  6,  2,\n",
       "         3,  2,  7,  5,  4,  0,  0,  0,  0,  0,  0,  0,  0,  0,  0,  0,\n",
       "         0,  0,  0,  0,  0,  0,  0,  0,  0,  0,  0]], dtype=int64)>"
      ]
     },
     "execution_count": 9,
     "metadata": {},
     "output_type": "execute_result"
    }
   ],
   "source": [
    "input_data = ['C1=CC=C(C=C1)CCOC(=O)/C=C/C2=CC(=C(C=C2)O)O','CC(=O)NC1=CC=C(C=C1)O']\n",
    "preprocess(input_data)"
   ]
  },
  {
   "cell_type": "code",
   "execution_count": 10,
   "id": "6d26f675",
   "metadata": {},
   "outputs": [],
   "source": [
    "features_ds = tf.data.Dataset.from_tensor_slices(features)\n",
    "labels_ds = tf.data.Dataset.from_tensor_slices(labels)"
   ]
  },
  {
   "cell_type": "code",
   "execution_count": 11,
   "id": "bfb126a3",
   "metadata": {},
   "outputs": [],
   "source": [
    "from tensorflow.keras.layers import Embedding, LSTM, Dense, Dropout\n",
    "model = tf.keras.models.Sequential([preprocess, Embedding(input_dim = len(preprocess.get_vocabulary()),output_dim = 100),\n",
    "                                   LSTM(64, dropout = 0.1, recurrent_dropout = 0.1), Dense(64, activation = 'relu'),\n",
    "                                   Dropout(0.5), Dense(len(preprocess.get_vocabulary()),activation = 'softmax')])\n",
    "model.compile(optimizer = 'adam', loss = 'categorical_crossentropy', metrics = ['accuracy'])"
   ]
  }
 ],
 "metadata": {
  "kernelspec": {
   "display_name": "Python 3 (ipykernel)",
   "language": "python",
   "name": "python3"
  },
  "language_info": {
   "codemirror_mode": {
    "name": "ipython",
    "version": 3
   },
   "file_extension": ".py",
   "mimetype": "text/x-python",
   "name": "python",
   "nbconvert_exporter": "python",
   "pygments_lexer": "ipython3",
   "version": "3.11.0"
  }
 },
 "nbformat": 4,
 "nbformat_minor": 5
}
