{
 "cells": [
  {
   "cell_type": "code",
   "execution_count": 2,
   "id": "ead8bbc0",
   "metadata": {},
   "outputs": [],
   "source": [
    "import pandas as pd\n",
    "import numpy as np\n",
    "\n",
    "import tensorflow as tf\n",
    "from tensorflow import keras\n",
    "from tensorflow.keras import layers"
   ]
  },
  {
   "cell_type": "code",
   "execution_count": 3,
   "id": "fa166854",
   "metadata": {},
   "outputs": [
    {
     "data": {
      "text/plain": [
       "(269, 12)"
      ]
     },
     "execution_count": 3,
     "metadata": {},
     "output_type": "execute_result"
    }
   ],
   "source": [
    "df = pd.read_csv('aspirin_like.csv')\n",
    "df.drop_duplicates('Smiles',inplace = True)\n",
    "df.shape"
   ]
  },
  {
   "cell_type": "code",
   "execution_count": 4,
   "id": "6ab56058",
   "metadata": {
    "scrolled": true
   },
   "outputs": [
    {
     "data": {
      "text/plain": [
       "'C1=CC=C(C(=C1)C(=O)O)O[N+](=O)[O-]\\n'"
      ]
     },
     "execution_count": 4,
     "metadata": {},
     "output_type": "execute_result"
    }
   ],
   "source": [
    "smiles = df['Smiles'].to_list()\n",
    "for i in range(len(smiles)): #add newline to each SMILES string\n",
    "    smiles[i] = smiles[i]+'\\n'\n",
    "smiles[1]"
   ]
  },
  {
   "cell_type": "code",
   "execution_count": 5,
   "id": "e7032087",
   "metadata": {},
   "outputs": [
    {
     "data": {
      "text/plain": [
       "(38, 18)"
      ]
     },
     "execution_count": 5,
     "metadata": {},
     "output_type": "execute_result"
    }
   ],
   "source": [
    "max_smi, min_smi = 0, len(smiles[0])\n",
    "\n",
    "for smi in smiles:\n",
    "    if len(smi) > max_smi:\n",
    "        max_smi = len(smi)\n",
    "    if len(smi) < min_smi:\n",
    "        min_smi = len(smi)\n",
    "max_smi, min_smi"
   ]
  },
  {
   "cell_type": "code",
   "execution_count": 6,
   "id": "968dc9fc",
   "metadata": {},
   "outputs": [
    {
     "data": {
      "text/plain": [
       "['CC(=O)OC1=', 'C(=O)OC1=C', '(=O)OC1=CC', '=O)OC1=CC=', 'O)OC1=CC=C']"
      ]
     },
     "execution_count": 6,
     "metadata": {},
     "output_type": "execute_result"
    }
   ],
   "source": [
    "features = []\n",
    "labels = []\n",
    "\n",
    "smi_len = 10 # characters from Smiles\n",
    "\n",
    "for smi in smiles:\n",
    "    for i in range(smi_len, len(smi)):\n",
    "        seq = smi[i-smi_len:i + 1]\n",
    "        features.append(seq[:-1])\n",
    "        labels.append(seq[-1])\n",
    "        \n",
    "features[:5]"
   ]
  },
  {
   "cell_type": "code",
   "execution_count": 7,
   "id": "8d962217",
   "metadata": {},
   "outputs": [],
   "source": [
    "raw_dataset = tf.data.Dataset.from_tensor_slices(smiles)"
   ]
  },
  {
   "cell_type": "code",
   "execution_count": 8,
   "id": "b9a579ff",
   "metadata": {},
   "outputs": [],
   "source": [
    "preprocess = layers.TextVectorization(standardize = None, split = 'character')\n",
    "preprocess.adapt(raw_dataset)"
   ]
  },
  {
   "cell_type": "code",
   "execution_count": 9,
   "id": "ccb2af08",
   "metadata": {},
   "outputs": [
    {
     "data": {
      "text/plain": [
       "(['',\n",
       "  '[UNK]',\n",
       "  'C',\n",
       "  '=',\n",
       "  'O',\n",
       "  ')',\n",
       "  '(',\n",
       "  '1',\n",
       "  '\\n',\n",
       "  'N',\n",
       "  'F',\n",
       "  ']',\n",
       "  '[',\n",
       "  '-',\n",
       "  'S',\n",
       "  '+',\n",
       "  'l',\n",
       "  '2',\n",
       "  'r',\n",
       "  'B',\n",
       "  'I',\n",
       "  'H',\n",
       "  '#'],\n",
       " 23)"
      ]
     },
     "execution_count": 9,
     "metadata": {},
     "output_type": "execute_result"
    }
   ],
   "source": [
    "preprocess.get_vocabulary(), preprocess.vocabulary_size()"
   ]
  },
  {
   "cell_type": "code",
   "execution_count": 10,
   "id": "8456e1c6",
   "metadata": {},
   "outputs": [
    {
     "data": {
      "text/plain": [
       "<tf.Tensor: shape=(2, 43), dtype=int64, numpy=\n",
       "array([[ 2,  7,  3,  2,  2,  3,  2,  6,  2,  3,  2,  7,  5,  2,  2,  4,\n",
       "         2,  6,  3,  4,  5,  1,  2,  3,  2,  1,  2, 17,  3,  2,  2,  6,\n",
       "         3,  2,  6,  2,  3,  2, 17,  5,  4,  5,  4],\n",
       "       [ 2,  2,  6,  3,  4,  5,  9,  2,  7,  3,  2,  2,  3,  2,  6,  2,\n",
       "         3,  2,  7,  5,  4,  0,  0,  0,  0,  0,  0,  0,  0,  0,  0,  0,\n",
       "         0,  0,  0,  0,  0,  0,  0,  0,  0,  0,  0]], dtype=int64)>"
      ]
     },
     "execution_count": 10,
     "metadata": {},
     "output_type": "execute_result"
    }
   ],
   "source": [
    "input_data = ['C1=CC=C(C=C1)CCOC(=O)/C=C/C2=CC(=C(C=C2)O)O','CC(=O)NC1=CC=C(C=C1)O']\n",
    "preprocess(input_data)"
   ]
  },
  {
   "cell_type": "code",
   "execution_count": 19,
   "id": "6d26f675",
   "metadata": {},
   "outputs": [],
   "source": [
    "features_ds = tf.data.Dataset.from_tensor_slices(features)\n",
    "labels_ds = tf.data.Dataset.from_tensor_slices(labels)"
   ]
  },
  {
   "cell_type": "code",
   "execution_count": 26,
   "id": "bfb126a3",
   "metadata": {},
   "outputs": [
    {
     "ename": "ValueError",
     "evalue": "This model has not yet been built. Build the model first by calling `build()` or by calling the model on a batch of data.",
     "output_type": "error",
     "traceback": [
      "\u001b[1;31m---------------------------------------------------------------------------\u001b[0m",
      "\u001b[1;31mValueError\u001b[0m                                Traceback (most recent call last)",
      "Cell \u001b[1;32mIn[26], line 6\u001b[0m\n\u001b[0;32m      2\u001b[0m model \u001b[38;5;241m=\u001b[39m tf\u001b[38;5;241m.\u001b[39mkeras\u001b[38;5;241m.\u001b[39mmodels\u001b[38;5;241m.\u001b[39mSequential([preprocess, Embedding(input_dim \u001b[38;5;241m=\u001b[39m \u001b[38;5;28mlen\u001b[39m(preprocess\u001b[38;5;241m.\u001b[39mget_vocabulary()),output_dim \u001b[38;5;241m=\u001b[39m \u001b[38;5;241m100\u001b[39m),\n\u001b[0;32m      3\u001b[0m                                    LSTM(\u001b[38;5;241m64\u001b[39m, dropout \u001b[38;5;241m=\u001b[39m \u001b[38;5;241m0.1\u001b[39m, recurrent_dropout \u001b[38;5;241m=\u001b[39m \u001b[38;5;241m0.1\u001b[39m), Dense(\u001b[38;5;241m64\u001b[39m, activation \u001b[38;5;241m=\u001b[39m \u001b[38;5;124m'\u001b[39m\u001b[38;5;124mrelu\u001b[39m\u001b[38;5;124m'\u001b[39m),\n\u001b[0;32m      4\u001b[0m                                    Dropout(\u001b[38;5;241m0.5\u001b[39m), Dense(\u001b[38;5;28mlen\u001b[39m(preprocess\u001b[38;5;241m.\u001b[39mget_vocabulary()),activation \u001b[38;5;241m=\u001b[39m \u001b[38;5;124m'\u001b[39m\u001b[38;5;124msoftmax\u001b[39m\u001b[38;5;124m'\u001b[39m)])\n\u001b[0;32m      5\u001b[0m model\u001b[38;5;241m.\u001b[39mcompile(optimizer \u001b[38;5;241m=\u001b[39m \u001b[38;5;124m'\u001b[39m\u001b[38;5;124madam\u001b[39m\u001b[38;5;124m'\u001b[39m, loss \u001b[38;5;241m=\u001b[39m \u001b[38;5;124m'\u001b[39m\u001b[38;5;124mcategorical_crossentropy\u001b[39m\u001b[38;5;124m'\u001b[39m, metrics \u001b[38;5;241m=\u001b[39m [\u001b[38;5;124m'\u001b[39m\u001b[38;5;124maccuracy\u001b[39m\u001b[38;5;124m'\u001b[39m])\n\u001b[1;32m----> 6\u001b[0m \u001b[43mmodel\u001b[49m\u001b[38;5;241;43m.\u001b[39;49m\u001b[43msummary\u001b[49m\u001b[43m(\u001b[49m\u001b[43m)\u001b[49m\n",
      "File \u001b[1;32m~\\anaconda3\\envs\\tensor_env\\Lib\\site-packages\\keras\\engine\\training.py:3229\u001b[0m, in \u001b[0;36mModel.summary\u001b[1;34m(self, line_length, positions, print_fn, expand_nested, show_trainable, layer_range)\u001b[0m\n\u001b[0;32m   3198\u001b[0m \u001b[38;5;250m\u001b[39m\u001b[38;5;124;03m\"\"\"Prints a string summary of the network.\u001b[39;00m\n\u001b[0;32m   3199\u001b[0m \n\u001b[0;32m   3200\u001b[0m \u001b[38;5;124;03mArgs:\u001b[39;00m\n\u001b[1;32m   (...)\u001b[0m\n\u001b[0;32m   3226\u001b[0m \u001b[38;5;124;03m    ValueError: if `summary()` is called before the model is built.\u001b[39;00m\n\u001b[0;32m   3227\u001b[0m \u001b[38;5;124;03m\"\"\"\u001b[39;00m\n\u001b[0;32m   3228\u001b[0m \u001b[38;5;28;01mif\u001b[39;00m \u001b[38;5;129;01mnot\u001b[39;00m \u001b[38;5;28mself\u001b[39m\u001b[38;5;241m.\u001b[39mbuilt:\n\u001b[1;32m-> 3229\u001b[0m     \u001b[38;5;28;01mraise\u001b[39;00m \u001b[38;5;167;01mValueError\u001b[39;00m(\n\u001b[0;32m   3230\u001b[0m         \u001b[38;5;124m\"\u001b[39m\u001b[38;5;124mThis model has not yet been built. \u001b[39m\u001b[38;5;124m\"\u001b[39m\n\u001b[0;32m   3231\u001b[0m         \u001b[38;5;124m\"\u001b[39m\u001b[38;5;124mBuild the model first by calling `build()` or by calling \u001b[39m\u001b[38;5;124m\"\u001b[39m\n\u001b[0;32m   3232\u001b[0m         \u001b[38;5;124m\"\u001b[39m\u001b[38;5;124mthe model on a batch of data.\u001b[39m\u001b[38;5;124m\"\u001b[39m\n\u001b[0;32m   3233\u001b[0m     )\n\u001b[0;32m   3234\u001b[0m layer_utils\u001b[38;5;241m.\u001b[39mprint_summary(\n\u001b[0;32m   3235\u001b[0m     \u001b[38;5;28mself\u001b[39m,\n\u001b[0;32m   3236\u001b[0m     line_length\u001b[38;5;241m=\u001b[39mline_length,\n\u001b[1;32m   (...)\u001b[0m\n\u001b[0;32m   3241\u001b[0m     layer_range\u001b[38;5;241m=\u001b[39mlayer_range,\n\u001b[0;32m   3242\u001b[0m )\n",
      "\u001b[1;31mValueError\u001b[0m: This model has not yet been built. Build the model first by calling `build()` or by calling the model on a batch of data."
     ]
    }
   ],
   "source": [
    "from tensorflow.keras.layers import Embedding, LSTM, Dense, Dropout\n",
    "model = tf.keras.models.Sequential([preprocess, Embedding(input_dim = len(preprocess.get_vocabulary()),output_dim = 100),\n",
    "                                   LSTM(64, dropout = 0.1, recurrent_dropout = 0.1), Dense(64, activation = 'relu'),\n",
    "                                   Dropout(0.5), Dense(len(preprocess.get_vocabulary()),activation = 'softmax')])\n",
    "model.compile(optimizer = 'adam', loss = 'categorical_crossentropy', metrics = ['accuracy'])"
   ]
  },
  {
   "cell_type": "code",
   "execution_count": null,
   "id": "b46725f0",
   "metadata": {},
   "outputs": [],
   "source": []
  },
  {
   "cell_type": "code",
   "execution_count": null,
   "id": "69d517a6",
   "metadata": {},
   "outputs": [],
   "source": []
  }
 ],
 "metadata": {
  "kernelspec": {
   "display_name": "Python 3 (ipykernel)",
   "language": "python",
   "name": "python3"
  },
  "language_info": {
   "codemirror_mode": {
    "name": "ipython",
    "version": 3
   },
   "file_extension": ".py",
   "mimetype": "text/x-python",
   "name": "python",
   "nbconvert_exporter": "python",
   "pygments_lexer": "ipython3",
   "version": "3.11.0"
  }
 },
 "nbformat": 4,
 "nbformat_minor": 5
}
