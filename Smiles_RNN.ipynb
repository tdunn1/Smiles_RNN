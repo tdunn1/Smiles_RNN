{
 "cells": [
  {
   "cell_type": "code",
   "execution_count": 1,
   "id": "ead8bbc0",
   "metadata": {},
   "outputs": [],
   "source": [
    "import pandas as pd\n",
    "import numpy as np\n",
    "\n",
    "import tensorflow as tf"
   ]
  },
  {
   "cell_type": "code",
   "execution_count": 2,
   "id": "fa166854",
   "metadata": {},
   "outputs": [
    {
     "data": {
      "text/plain": [
       "(269, 12)"
      ]
     },
     "execution_count": 2,
     "metadata": {},
     "output_type": "execute_result"
    }
   ],
   "source": [
    "df = pd.read_csv('aspirin_like.csv')\n",
    "df.drop_duplicates('Smiles',inplace = True)\n",
    "df.shape"
   ]
  },
  {
   "cell_type": "code",
   "execution_count": 3,
   "id": "6ab56058",
   "metadata": {
    "scrolled": true
   },
   "outputs": [
    {
     "data": {
      "text/plain": [
       "'C1=CC=C(C(=C1)C(=O)O)O[N+](=O)[O-]\\n'"
      ]
     },
     "execution_count": 3,
     "metadata": {},
     "output_type": "execute_result"
    }
   ],
   "source": [
    "smiles = df['Smiles'].to_list()\n",
    "maxim, minim = len(smiles[0]), len(smiles[0])\n",
    "for i in range(len(smiles)): #add newline to each SMILES string\n",
    "    smiles[i] = smiles[i]+'\\n'\n",
    "smiles[1]"
   ]
  },
  {
   "cell_type": "code",
   "execution_count": 4,
   "id": "8d962217",
   "metadata": {},
   "outputs": [],
   "source": [
    "dataset = tf.data.Dataset.from_tensor_slices(smiles)"
   ]
  },
  {
   "cell_type": "code",
   "execution_count": 5,
   "id": "b9a579ff",
   "metadata": {},
   "outputs": [],
   "source": [
    "preprocess = tf.keras.layers.TextVectorization(standardize = None, split = 'character')\n",
    "preprocess.adapt(smiles)"
   ]
  },
  {
   "cell_type": "code",
   "execution_count": 6,
   "id": "ccb2af08",
   "metadata": {},
   "outputs": [
    {
     "data": {
      "text/plain": [
       "(['C',\n",
       "  '=',\n",
       "  'O',\n",
       "  ')',\n",
       "  '(',\n",
       "  '1',\n",
       "  '\\n',\n",
       "  'N',\n",
       "  'F',\n",
       "  ']',\n",
       "  '[',\n",
       "  '-',\n",
       "  'S',\n",
       "  '+',\n",
       "  'l',\n",
       "  '2',\n",
       "  'r',\n",
       "  'B',\n",
       "  'I',\n",
       "  'H',\n",
       "  '#'],\n",
       " 23)"
      ]
     },
     "execution_count": 6,
     "metadata": {},
     "output_type": "execute_result"
    }
   ],
   "source": [
    "preprocess.get_vocabulary(include_special_tokens = False), preprocess.vocabulary_size()"
   ]
  },
  {
   "cell_type": "code",
   "execution_count": 9,
   "id": "8456e1c6",
   "metadata": {},
   "outputs": [
    {
     "name": "stdout",
     "output_type": "stream",
     "text": [
      "1/1 [==============================] - 0s 285ms/step\n"
     ]
    },
    {
     "data": {
      "text/plain": [
       "array([[ 2,  7,  3,  2,  2,  3,  2,  6,  2,  3,  2,  7,  5,  2,  2,  4,\n",
       "         2,  6,  3,  4,  5,  1,  2,  3,  2,  1,  2, 17,  3,  2,  2,  6,\n",
       "         3,  2,  6,  2,  3,  2, 17,  5,  4,  5,  4],\n",
       "       [ 2,  2,  6,  3,  4,  5,  9,  2,  7,  3,  2,  2,  3,  2,  6,  2,\n",
       "         3,  2,  7,  5,  4,  0,  0,  0,  0,  0,  0,  0,  0,  0,  0,  0,\n",
       "         0,  0,  0,  0,  0,  0,  0,  0,  0,  0,  0]], dtype=int64)"
      ]
     },
     "execution_count": 9,
     "metadata": {},
     "output_type": "execute_result"
    }
   ],
   "source": [
    "model = tf.keras.models.Sequential()\n",
    "model.add(tf.keras.Input(shape = (1,), dtype = tf.string))\n",
    "model.add(preprocess)\n",
    "\n",
    "input_data = ['C1=CC=C(C=C1)CCOC(=O)/C=C/C2=CC(=C(C=C2)O)O','CC(=O)NC1=CC=C(C=C1)O']\n",
    "model.predict(input_data)"
   ]
  }
 ],
 "metadata": {
  "kernelspec": {
   "display_name": "Python 3 (ipykernel)",
   "language": "python",
   "name": "python3"
  },
  "language_info": {
   "codemirror_mode": {
    "name": "ipython",
    "version": 3
   },
   "file_extension": ".py",
   "mimetype": "text/x-python",
   "name": "python",
   "nbconvert_exporter": "python",
   "pygments_lexer": "ipython3",
   "version": "3.11.0"
  }
 },
 "nbformat": 4,
 "nbformat_minor": 5
}
