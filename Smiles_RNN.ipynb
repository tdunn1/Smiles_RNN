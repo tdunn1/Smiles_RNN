{
 "cells": [
  {
   "cell_type": "code",
   "execution_count": 1,
   "id": "ead8bbc0",
   "metadata": {},
   "outputs": [],
   "source": [
    "import pandas as pd\n",
    "import numpy as np\n",
    "\n",
    "import tensorflow as tf\n",
    "from tensorflow import keras\n",
    "from tensorflow.keras import layers"
   ]
  },
  {
   "cell_type": "code",
   "execution_count": 2,
   "id": "d7401c79",
   "metadata": {},
   "outputs": [],
   "source": [
    "def ds_prep(smi_list):\n",
    "    char_array = []\n",
    "    for smi in smi_list:\n",
    "        char_list = [x for x in smi]\n",
    "        char_array.append(char_list)\n",
    "    #char_array = np.array(char_array)\n",
    "    #char_array = np.reshape(char_array,(len(smi_list),1 , 1))\n",
    "    return char_array"
   ]
  },
  {
   "cell_type": "code",
   "execution_count": 3,
   "id": "fa166854",
   "metadata": {},
   "outputs": [
    {
     "data": {
      "text/plain": [
       "(269, 12)"
      ]
     },
     "execution_count": 3,
     "metadata": {},
     "output_type": "execute_result"
    }
   ],
   "source": [
    "df = pd.read_csv('aspirin_like.csv')\n",
    "df.drop_duplicates('Smiles',inplace = True)\n",
    "df.shape"
   ]
  },
  {
   "cell_type": "code",
   "execution_count": 4,
   "id": "6ab56058",
   "metadata": {
    "scrolled": true
   },
   "outputs": [
    {
     "data": {
      "text/plain": [
       "'C1=CC=C(C(=C1)C(=O)O)O[N+](=O)[O-]\\n'"
      ]
     },
     "execution_count": 4,
     "metadata": {},
     "output_type": "execute_result"
    }
   ],
   "source": [
    "smiles = df['Smiles'].to_list()\n",
    "for i in range(len(smiles)): #add newline to each SMILES string\n",
    "    smiles[i] = smiles[i]+'\\n'\n",
    "smiles[1]"
   ]
  },
  {
   "cell_type": "code",
   "execution_count": 5,
   "id": "e7032087",
   "metadata": {},
   "outputs": [
    {
     "data": {
      "text/plain": [
       "(38, 18)"
      ]
     },
     "execution_count": 5,
     "metadata": {},
     "output_type": "execute_result"
    }
   ],
   "source": [
    "max_smi, min_smi = 0, len(smiles[0])\n",
    "\n",
    "for smi in smiles:\n",
    "    if len(smi) > max_smi:\n",
    "        max_smi = len(smi)\n",
    "    if len(smi) < min_smi:\n",
    "        min_smi = len(smi)\n",
    "max_smi, min_smi"
   ]
  },
  {
   "cell_type": "code",
   "execution_count": 6,
   "id": "968dc9fc",
   "metadata": {},
   "outputs": [
    {
     "data": {
      "text/plain": [
       "(['CC(=O)OC1=', 'C(=O)OC1=C', '(=O)OC1=CC', '=O)OC1=CC=', 'O)OC1=CC=C'],\n",
       " ['C(=O)OC1=C', '(=O)OC1=CC', '=O)OC1=CC=', 'O)OC1=CC=C', ')OC1=CC=CC'])"
      ]
     },
     "execution_count": 6,
     "metadata": {},
     "output_type": "execute_result"
    }
   ],
   "source": [
    "features = []\n",
    "labels = []\n",
    "\n",
    "smi_len = 10 # characters from Smiles\n",
    "\n",
    "for smi in smiles:\n",
    "    for i in range(smi_len, len(smi)):\n",
    "        seq = smi[i-smi_len:i + 1]\n",
    "        features.append(seq[:-1])\n",
    "        labels.append(seq[1:])\n",
    "        \n",
    "features[:5], labels[:5]"
   ]
  },
  {
   "cell_type": "code",
   "execution_count": 7,
   "id": "8d962217",
   "metadata": {},
   "outputs": [],
   "source": [
    "raw_dataset = tf.data.Dataset.from_tensor_slices(smiles)"
   ]
  },
  {
   "cell_type": "code",
   "execution_count": 8,
   "id": "b9a579ff",
   "metadata": {},
   "outputs": [],
   "source": [
    "preprocess = layers.TextVectorization(standardize = None, split = 'character', output_mode = 'int', output_sequence_length = 10)\n",
    "preprocess.adapt(raw_dataset)"
   ]
  },
  {
   "cell_type": "code",
   "execution_count": 9,
   "id": "ccb2af08",
   "metadata": {
    "scrolled": true
   },
   "outputs": [
    {
     "data": {
      "text/plain": [
       "(['',\n",
       "  '[UNK]',\n",
       "  'C',\n",
       "  '=',\n",
       "  'O',\n",
       "  ')',\n",
       "  '(',\n",
       "  '1',\n",
       "  '\\n',\n",
       "  'N',\n",
       "  'F',\n",
       "  ']',\n",
       "  '[',\n",
       "  '-',\n",
       "  'S',\n",
       "  '+',\n",
       "  'l',\n",
       "  '2',\n",
       "  'r',\n",
       "  'B',\n",
       "  'I',\n",
       "  'H',\n",
       "  '#'],\n",
       " 23)"
      ]
     },
     "execution_count": 9,
     "metadata": {},
     "output_type": "execute_result"
    }
   ],
   "source": [
    "preprocess.get_vocabulary(), preprocess.vocabulary_size()"
   ]
  },
  {
   "cell_type": "code",
   "execution_count": 10,
   "id": "bfb126a3",
   "metadata": {},
   "outputs": [],
   "source": [
    "from tensorflow.keras.layers import Embedding, LSTM, Dense, Dropout\n",
    "model = tf.keras.Sequential([Embedding(input_dim = len(preprocess.get_vocabulary()),output_dim = 100),\n",
    "                             LSTM(64, dropout = 0.1, recurrent_dropout = 0.1, return_sequences = True),\n",
    "                             Dropout(0.5), Dense(len(preprocess.get_vocabulary()))])\n",
    "\n",
    "model.compile(optimizer = 'adam', loss = tf.keras.losses.SparseCategoricalCrossentropy(from_logits = True), metrics = ['accuracy'])"
   ]
  },
  {
   "cell_type": "code",
   "execution_count": 12,
   "id": "a2b4961f",
   "metadata": {},
   "outputs": [
    {
     "data": {
      "text/plain": [
       "<tf.Tensor: shape=(4994, 10), dtype=int64, numpy=\n",
       "array([[2, 2, 6, ..., 2, 7, 3],\n",
       "       [2, 6, 3, ..., 7, 3, 2],\n",
       "       [6, 3, 4, ..., 3, 2, 2],\n",
       "       ...,\n",
       "       [6, 3, 4, ..., 6, 3, 4],\n",
       "       [3, 4, 5, ..., 3, 4, 5],\n",
       "       [4, 5, 4, ..., 4, 5, 4]], dtype=int64)>"
      ]
     },
     "execution_count": 12,
     "metadata": {},
     "output_type": "execute_result"
    }
   ],
   "source": [
    "trn_features = preprocess(features)\n",
    "trn_labels = preprocess(labels)\n",
    "trn_features"
   ]
  },
  {
   "cell_type": "code",
   "execution_count": 13,
   "id": "6831ed5a",
   "metadata": {
    "scrolled": true
   },
   "outputs": [
    {
     "data": {
      "text/plain": [
       "<tf.Tensor: shape=(4994, 10), dtype=int64, numpy=\n",
       "array([[2, 6, 3, ..., 7, 3, 2],\n",
       "       [6, 3, 4, ..., 3, 2, 2],\n",
       "       [3, 4, 5, ..., 2, 2, 3],\n",
       "       ...,\n",
       "       [3, 4, 5, ..., 3, 4, 5],\n",
       "       [4, 5, 4, ..., 4, 5, 4],\n",
       "       [5, 4, 5, ..., 5, 4, 8]], dtype=int64)>"
      ]
     },
     "execution_count": 13,
     "metadata": {},
     "output_type": "execute_result"
    }
   ],
   "source": [
    "trn_labels"
   ]
  },
  {
   "cell_type": "code",
   "execution_count": 14,
   "id": "333669c2",
   "metadata": {},
   "outputs": [
    {
     "name": "stdout",
     "output_type": "stream",
     "text": [
      "Epoch 1/10\n",
      "157/157 [==============================] - 14s 42ms/step - loss: 2.0783 - accuracy: 0.3636\n",
      "Epoch 2/10\n",
      "157/157 [==============================] - 6s 41ms/step - loss: 1.2450 - accuracy: 0.5857\n",
      "Epoch 3/10\n",
      "157/157 [==============================] - 5s 33ms/step - loss: 1.0423 - accuracy: 0.6561\n",
      "Epoch 4/10\n",
      "157/157 [==============================] - 5s 33ms/step - loss: 0.9443 - accuracy: 0.6878\n",
      "Epoch 5/10\n",
      "157/157 [==============================] - 5s 33ms/step - loss: 0.8810 - accuracy: 0.7049\n",
      "Epoch 6/10\n",
      "157/157 [==============================] - 5s 33ms/step - loss: 0.8425 - accuracy: 0.7183\n",
      "Epoch 7/10\n",
      "157/157 [==============================] - 5s 33ms/step - loss: 0.8120 - accuracy: 0.7251\n",
      "Epoch 8/10\n",
      "157/157 [==============================] - 5s 34ms/step - loss: 0.7902 - accuracy: 0.7295\n",
      "Epoch 9/10\n",
      "157/157 [==============================] - 5s 33ms/step - loss: 0.7743 - accuracy: 0.7350\n",
      "Epoch 10/10\n",
      "157/157 [==============================] - 8s 51ms/step - loss: 0.7588 - accuracy: 0.7410\n"
     ]
    },
    {
     "data": {
      "text/plain": [
       "<keras.callbacks.History at 0x2880dbf2b90>"
      ]
     },
     "execution_count": 14,
     "metadata": {},
     "output_type": "execute_result"
    }
   ],
   "source": [
    "model.fit(trn_features, trn_labels, epochs = 10) "
   ]
  }
 ],
 "metadata": {
  "kernelspec": {
   "display_name": "Python 3 (ipykernel)",
   "language": "python",
   "name": "python3"
  },
  "language_info": {
   "codemirror_mode": {
    "name": "ipython",
    "version": 3
   },
   "file_extension": ".py",
   "mimetype": "text/x-python",
   "name": "python",
   "nbconvert_exporter": "python",
   "pygments_lexer": "ipython3",
   "version": "3.11.0"
  }
 },
 "nbformat": 4,
 "nbformat_minor": 5
}
