{
 "cells": [
  {
   "cell_type": "code",
   "execution_count": 1,
   "id": "ead8bbc0",
   "metadata": {},
   "outputs": [],
   "source": [
    "import pandas as pd\n",
    "import numpy as np\n",
    "\n",
    "import tensorflow as tf\n",
    "from tensorflow import keras\n",
    "from tensorflow.keras import layers\n",
    "\n",
    "tf.random.set_seed(1)"
   ]
  },
  {
   "cell_type": "code",
   "execution_count": 2,
   "id": "d7401c79",
   "metadata": {},
   "outputs": [],
   "source": [
    "def ds_prep(smi_list):\n",
    "    char_array = []\n",
    "    for smi in smi_list:\n",
    "        char_list = [x for x in smi]\n",
    "        char_array.append(char_list)\n",
    "    #char_array = np.array(char_array)\n",
    "    #char_array = np.reshape(char_array,(len(smi_list),1 , 1))\n",
    "    return char_array"
   ]
  },
  {
   "cell_type": "code",
   "execution_count": 8,
   "id": "fa166854",
   "metadata": {},
   "outputs": [
    {
     "data": {
      "text/plain": [
       "(3277, 7)"
      ]
     },
     "execution_count": 8,
     "metadata": {},
     "output_type": "execute_result"
    }
   ],
   "source": [
    "df = pd.read_csv('aspirin_like.csv', index_col = 0)\n",
    "df.drop_duplicates('Smiles',inplace = True)\n",
    "df.shape"
   ]
  },
  {
   "cell_type": "code",
   "execution_count": 9,
   "id": "6ab56058",
   "metadata": {
    "scrolled": true
   },
   "outputs": [
    {
     "data": {
      "text/plain": [
       "'C1=CC=C(C(=C1)C(=O)O)O[N+](=O)[O-]\\n'"
      ]
     },
     "execution_count": 9,
     "metadata": {},
     "output_type": "execute_result"
    }
   ],
   "source": [
    "smiles = df['Smiles'].to_list()\n",
    "for i in range(len(smiles)): #add newline to each SMILES string\n",
    "    smiles[i] = smiles[i]+'\\n'\n",
    "smiles[1]"
   ]
  },
  {
   "cell_type": "code",
   "execution_count": 10,
   "id": "e7032087",
   "metadata": {},
   "outputs": [
    {
     "data": {
      "text/plain": [
       "(51, 16)"
      ]
     },
     "execution_count": 10,
     "metadata": {},
     "output_type": "execute_result"
    }
   ],
   "source": [
    "max_smi, min_smi = 0, len(smiles[0])\n",
    "\n",
    "for smi in smiles:\n",
    "    if len(smi) > max_smi:\n",
    "        max_smi = len(smi)\n",
    "    if len(smi) < min_smi:\n",
    "        min_smi = len(smi)\n",
    "max_smi, min_smi"
   ]
  },
  {
   "cell_type": "code",
   "execution_count": 11,
   "id": "968dc9fc",
   "metadata": {},
   "outputs": [
    {
     "data": {
      "text/plain": [
       "(['CC(=O)OC1=', 'C(=O)OC1=C', '(=O)OC1=CC', '=O)OC1=CC=', 'O)OC1=CC=C'],\n",
       " ['C(=O)OC1=C', '(=O)OC1=CC', '=O)OC1=CC=', 'O)OC1=CC=C', ')OC1=CC=CC'])"
      ]
     },
     "execution_count": 11,
     "metadata": {},
     "output_type": "execute_result"
    }
   ],
   "source": [
    "features = []\n",
    "labels = []\n",
    "\n",
    "smi_len = 10 # characters from Smiles\n",
    "\n",
    "for smi in smiles:\n",
    "    for i in range(smi_len, len(smi)):\n",
    "        seq = smi[i-smi_len:i + 1]\n",
    "        features.append(seq[:-1])\n",
    "        labels.append(seq[1:])\n",
    "        \n",
    "features[:5], labels[:5]"
   ]
  },
  {
   "cell_type": "code",
   "execution_count": 12,
   "id": "8d962217",
   "metadata": {},
   "outputs": [],
   "source": [
    "raw_dataset = tf.data.Dataset.from_tensor_slices(smiles)"
   ]
  },
  {
   "cell_type": "code",
   "execution_count": 13,
   "id": "b9a579ff",
   "metadata": {},
   "outputs": [],
   "source": [
    "preprocess = layers.TextVectorization(standardize = None, split = 'character', output_mode = 'int', output_sequence_length = 10)\n",
    "preprocess.adapt(raw_dataset)"
   ]
  },
  {
   "cell_type": "code",
   "execution_count": 14,
   "id": "ccb2af08",
   "metadata": {
    "scrolled": true
   },
   "outputs": [
    {
     "data": {
      "text/plain": [
       "(['',\n",
       "  '[UNK]',\n",
       "  'C',\n",
       "  '=',\n",
       "  ')',\n",
       "  '(',\n",
       "  'O',\n",
       "  '1',\n",
       "  '\\n',\n",
       "  'N',\n",
       "  '2',\n",
       "  'F',\n",
       "  'S',\n",
       "  ']',\n",
       "  '[',\n",
       "  'l',\n",
       "  '-',\n",
       "  '+',\n",
       "  '#',\n",
       "  'r',\n",
       "  'B',\n",
       "  'I',\n",
       "  '3',\n",
       "  'P',\n",
       "  'i',\n",
       "  'H',\n",
       "  '5',\n",
       "  '4'],\n",
       " 28)"
      ]
     },
     "execution_count": 14,
     "metadata": {},
     "output_type": "execute_result"
    }
   ],
   "source": [
    "preprocess.get_vocabulary(), preprocess.vocabulary_size()"
   ]
  },
  {
   "cell_type": "code",
   "execution_count": 15,
   "id": "bfb126a3",
   "metadata": {},
   "outputs": [],
   "source": [
    "from tensorflow.keras.layers import Embedding, LSTM, Dense, Dropout\n",
    "model = tf.keras.Sequential([Embedding(input_dim = len(preprocess.get_vocabulary()),output_dim = 100),\n",
    "                             LSTM(64, dropout = 0.1, recurrent_dropout = 0.1, return_sequences = True),\n",
    "                             Dropout(0.5), Dense(len(preprocess.get_vocabulary()))])\n",
    "\n",
    "model.compile(optimizer = 'adam', loss = tf.keras.losses.SparseCategoricalCrossentropy(from_logits = True), metrics = ['accuracy'])"
   ]
  },
  {
   "cell_type": "code",
   "execution_count": 16,
   "id": "a2b4961f",
   "metadata": {},
   "outputs": [
    {
     "data": {
      "text/plain": [
       "<tf.Tensor: shape=(64964, 10), dtype=int64, numpy=\n",
       "array([[ 2,  2,  5, ...,  2,  7,  3],\n",
       "       [ 2,  5,  3, ...,  7,  3,  2],\n",
       "       [ 5,  3,  6, ...,  3,  2,  2],\n",
       "       ...,\n",
       "       [ 4,  2,  5, ...,  4,  6,  4],\n",
       "       [ 2,  5,  3, ...,  6,  4,  2],\n",
       "       [ 5,  3,  6, ...,  4,  2, 15]], dtype=int64)>"
      ]
     },
     "execution_count": 16,
     "metadata": {},
     "output_type": "execute_result"
    }
   ],
   "source": [
    "trn_features = preprocess(features)\n",
    "trn_labels = preprocess(labels)\n",
    "trn_features"
   ]
  },
  {
   "cell_type": "code",
   "execution_count": 17,
   "id": "6831ed5a",
   "metadata": {
    "scrolled": true
   },
   "outputs": [
    {
     "data": {
      "text/plain": [
       "<tf.Tensor: shape=(64964, 10), dtype=int64, numpy=\n",
       "array([[ 2,  5,  3, ...,  7,  3,  2],\n",
       "       [ 5,  3,  6, ...,  3,  2,  2],\n",
       "       [ 3,  6,  4, ...,  2,  2,  3],\n",
       "       ...,\n",
       "       [ 2,  5,  3, ...,  6,  4,  2],\n",
       "       [ 5,  3,  6, ...,  4,  2, 15],\n",
       "       [ 3,  6,  4, ...,  2, 15,  8]], dtype=int64)>"
      ]
     },
     "execution_count": 17,
     "metadata": {},
     "output_type": "execute_result"
    }
   ],
   "source": [
    "trn_labels"
   ]
  },
  {
   "cell_type": "code",
   "execution_count": 18,
   "id": "333669c2",
   "metadata": {},
   "outputs": [
    {
     "name": "stdout",
     "output_type": "stream",
     "text": [
      "Epoch 1/25\n",
      "2031/2031 [==============================] - 78s 35ms/step - loss: 1.1725 - accuracy: 0.6150\n",
      "Epoch 2/25\n",
      "2031/2031 [==============================] - 68s 34ms/step - loss: 0.9273 - accuracy: 0.6829\n",
      "Epoch 3/25\n",
      "2031/2031 [==============================] - 72s 35ms/step - loss: 0.8889 - accuracy: 0.6929\n",
      "Epoch 4/25\n",
      "2031/2031 [==============================] - 101s 50ms/step - loss: 0.8702 - accuracy: 0.6973\n",
      "Epoch 5/25\n",
      "2031/2031 [==============================] - 79s 39ms/step - loss: 0.8566 - accuracy: 0.6999\n",
      "Epoch 6/25\n",
      "2031/2031 [==============================] - 72s 35ms/step - loss: 0.8493 - accuracy: 0.7017\n",
      "Epoch 7/25\n",
      "2031/2031 [==============================] - 69s 34ms/step - loss: 0.8422 - accuracy: 0.7038\n",
      "Epoch 8/25\n",
      "2031/2031 [==============================] - 69s 34ms/step - loss: 0.8365 - accuracy: 0.7043\n",
      "Epoch 9/25\n",
      "2031/2031 [==============================] - 69s 34ms/step - loss: 0.8325 - accuracy: 0.7057\n",
      "Epoch 10/25\n",
      "2031/2031 [==============================] - 69s 34ms/step - loss: 0.8290 - accuracy: 0.7072\n",
      "Epoch 11/25\n",
      "2031/2031 [==============================] - 71s 35ms/step - loss: 0.8253 - accuracy: 0.7077\n",
      "Epoch 12/25\n",
      "2031/2031 [==============================] - 71s 35ms/step - loss: 0.8234 - accuracy: 0.7080\n",
      "Epoch 13/25\n",
      "2031/2031 [==============================] - 70s 35ms/step - loss: 0.8200 - accuracy: 0.7095\n",
      "Epoch 14/25\n",
      "2031/2031 [==============================] - 71s 35ms/step - loss: 0.8189 - accuracy: 0.7093\n",
      "Epoch 15/25\n",
      "2031/2031 [==============================] - 72s 36ms/step - loss: 0.8172 - accuracy: 0.7102\n",
      "Epoch 16/25\n",
      "2031/2031 [==============================] - 71s 35ms/step - loss: 0.8151 - accuracy: 0.7106\n",
      "Epoch 17/25\n",
      "2031/2031 [==============================] - 71s 35ms/step - loss: 0.8135 - accuracy: 0.7103\n",
      "Epoch 18/25\n",
      "2031/2031 [==============================] - 71s 35ms/step - loss: 0.8118 - accuracy: 0.7108\n",
      "Epoch 19/25\n",
      "2031/2031 [==============================] - 73s 36ms/step - loss: 0.8107 - accuracy: 0.7115\n",
      "Epoch 20/25\n",
      "2031/2031 [==============================] - 71s 35ms/step - loss: 0.8095 - accuracy: 0.7115\n",
      "Epoch 21/25\n",
      "2031/2031 [==============================] - 72s 35ms/step - loss: 0.8088 - accuracy: 0.7123\n",
      "Epoch 22/25\n",
      "2031/2031 [==============================] - 72s 36ms/step - loss: 0.8079 - accuracy: 0.7120\n",
      "Epoch 23/25\n",
      "2031/2031 [==============================] - 71s 35ms/step - loss: 0.8075 - accuracy: 0.7122\n",
      "Epoch 24/25\n",
      "2031/2031 [==============================] - 71s 35ms/step - loss: 0.8060 - accuracy: 0.7132\n",
      "Epoch 25/25\n",
      "2031/2031 [==============================] - 72s 36ms/step - loss: 0.8051 - accuracy: 0.7120\n"
     ]
    },
    {
     "data": {
      "text/plain": [
       "<keras.callbacks.History at 0x1d3dd699fd0>"
      ]
     },
     "execution_count": 18,
     "metadata": {},
     "output_type": "execute_result"
    }
   ],
   "source": [
    "model.fit(trn_features, trn_labels, epochs = 25) "
   ]
  },
  {
   "cell_type": "code",
   "execution_count": 37,
   "id": "cb60286b",
   "metadata": {},
   "outputs": [],
   "source": [
    "def gen_mol(smi_str, model, text_vect, gen_length):\n",
    "    model.reset_states()\n",
    "    \n",
    "    gen_str = smi_str\n",
    "    start_str = gen_str\n",
    "    \n",
    "    for i in range(gen_length):\n",
    "        start_vect = text_vect([start_str])\n",
    "        \n",
    "        logits = model(start_vect)\n",
    "        logits = tf.squeeze(logits,0)\n",
    "        \n",
    "        new_char_index = tf.random.categorical(logits, num_samples = 1)\n",
    "        new_char_index = tf.squeeze(new_char_index)[-1].numpy()\n",
    "        new_char = text_vect.get_vocabulary()[new_char_index]        \n",
    "        \n",
    "        gen_str += new_char\n",
    "        start_str = start_str[1:] + new_char\n",
    "    \n",
    "    return gen_str    "
   ]
  },
  {
   "cell_type": "code",
   "execution_count": 38,
   "id": "2cef7204",
   "metadata": {},
   "outputs": [],
   "source": [
    "input_text = 'C1CCCCCCC1' #look into padding\n",
    "gen_length = 300\n",
    "predictions = gen_mol(input_text,model,preprocess,gen_length)"
   ]
  },
  {
   "cell_type": "code",
   "execution_count": 41,
   "id": "e250f39f",
   "metadata": {},
   "outputs": [
    {
     "data": {
      "text/plain": [
       "25"
      ]
     },
     "execution_count": 41,
     "metadata": {},
     "output_type": "execute_result"
    }
   ],
   "source": [
    "gen_smi = predictions.split('\\n')\n",
    "len(gen_smi)"
   ]
  },
  {
   "cell_type": "code",
   "execution_count": 52,
   "id": "1f094071",
   "metadata": {},
   "outputs": [
    {
     "name": "stderr",
     "output_type": "stream",
     "text": [
      "[17:29:37] SMILES Parse Error: unclosed ring for input: 'CC(C=CC(=C1)O)C(=O)O'\n",
      "[17:29:37] SMILES Parse Error: syntax error while parsing: )Cl)C(=O)O)C(=O)O\n",
      "[17:29:37] SMILES Parse Error: Failed parsing SMILES ')Cl)C(=O)O)C(=O)O' for input: ')Cl)C(=O)O)C(=O)O'\n",
      "[17:29:37] SMILES Parse Error: syntax error while parsing: Nl\n",
      "[17:29:37] SMILES Parse Error: Failed parsing SMILES 'Nl' for input: 'Nl'\n",
      "[17:29:37] SMILES Parse Error: extra close parentheses while parsing: C(=O)O)NC(=O)Cl\n",
      "[17:29:37] SMILES Parse Error: Failed parsing SMILES 'C(=O)O)NC(=O)Cl' for input: 'C(=O)O)NC(=O)Cl'\n",
      "[17:29:37] SMILES Parse Error: syntax error while parsing: )C(=O)O\n",
      "[17:29:37] SMILES Parse Error: Failed parsing SMILES ')C(=O)O' for input: ')C(=O)O'\n",
      "[17:29:37] SMILES Parse Error: syntax error while parsing: )Cl\n",
      "[17:29:37] SMILES Parse Error: Failed parsing SMILES ')Cl' for input: ')Cl'\n",
      "[17:29:37] SMILES Parse Error: extra close parentheses while parsing: I)C(=O)OC\n",
      "[17:29:37] SMILES Parse Error: Failed parsing SMILES 'I)C(=O)OC' for input: 'I)C(=O)OC'\n",
      "[17:29:37] SMILES Parse Error: extra close parentheses while parsing: F)F)F\n",
      "[17:29:37] SMILES Parse Error: Failed parsing SMILES 'F)F)F' for input: 'F)F)F'\n",
      "[17:29:37] SMILES Parse Error: extra close parentheses while parsing: Cl)C(=O)O\n",
      "[17:29:37] SMILES Parse Error: Failed parsing SMILES 'Cl)C(=O)O' for input: 'Cl)C(=O)O'\n",
      "[17:29:37] SMILES Parse Error: syntax error while parsing: =CC=C1C=O)C(=O)O\n",
      "[17:29:37] SMILES Parse Error: Failed parsing SMILES '=CC=C1C=O)C(=O)O' for input: '=CC=C1C=O)C(=O)O'\n",
      "[17:29:37] SMILES Parse Error: extra close parentheses while parsing: C1=CC=CC=C1[N+](=C1)C(=O)O)OC(=O)C(=O)O)C(F)(F)F)C(=O)O\n",
      "[17:29:37] SMILES Parse Error: Failed parsing SMILES 'C1=CC=CC=C1[N+](=C1)C(=O)O)OC(=O)C(=O)O)C(F)(F)F)C(=O)O' for input: 'C1=CC=CC=C1[N+](=C1)C(=O)O)OC(=O)C(=O)O)C(F)(F)F)C(=O)O'\n",
      "[17:29:37] SMILES Parse Error: extra close parentheses while parsing: NCC=O)C2=C(C=CC(=C2)Cl)C(=O)O)Cl\n",
      "[17:29:37] SMILES Parse Error: Failed parsing SMILES 'NCC=O)C2=C(C=CC(=C2)Cl)C(=O)O)Cl' for input: 'NCC=O)C2=C(C=CC(=C2)Cl)C(=O)O)Cl'\n",
      "[17:29:37] SMILES Parse Error: extra close parentheses while parsing: C(=O)O)N2C=NC=C2)C(=O)O\n",
      "[17:29:37] SMILES Parse Error: Failed parsing SMILES 'C(=O)O)N2C=NC=C2)C(=O)O' for input: 'C(=O)O)N2C=NC=C2)C(=O)O'\n",
      "[17:29:37] SMILES Parse Error: extra close parentheses while parsing: CC=CCCl)C(=O)\n",
      "[17:29:37] SMILES Parse Error: Failed parsing SMILES 'CC=CCCl)C(=O)' for input: 'CC=CCCl)C(=O)'\n"
     ]
    },
    {
     "data": {
      "text/plain": [
       "11"
      ]
     },
     "execution_count": 52,
     "metadata": {},
     "output_type": "execute_result"
    }
   ],
   "source": [
    "from rdkit import Chem\n",
    "from rdkit.Chem import DetectChemistryProblems\n",
    "from rdkit.Chem import Draw\n",
    "\n",
    "clean_mol = []\n",
    "for smi in gen_smi:\n",
    "    mol = Chem.MolFromSmiles(smi)\n",
    "    if mol is None or len(DetectChemistryProblems(mol)) != 0: continue\n",
    "    clean_mol.append(mol)\n",
    "len(clean_mol)"
   ]
  },
  {
   "cell_type": "code",
   "execution_count": 53,
   "id": "00206b1b",
   "metadata": {},
   "outputs": [
    {
     "data": {
      "image/png": "[encoded data removed]",
      "text/plain": [
       "<IPython.core.display.Image object>"
      ]
     },
     "execution_count": 53,
     "metadata": {},
     "output_type": "execute_result"
    }
   ],
   "source": [
    "Draw.MolsToGridImage(clean_mol)"
   ]
  }
 ],
 "metadata": {
  "kernelspec": {
   "display_name": "Python 3 (ipykernel)",
   "language": "python",
   "name": "python3"
  },
  "language_info": {
   "codemirror_mode": {
    "name": "ipython",
    "version": 3
   },
   "file_extension": ".py",
   "mimetype": "text/x-python",
   "name": "python",
   "nbconvert_exporter": "python",
   "pygments_lexer": "ipython3",
   "version": "3.11.0"
  }
 },
 "nbformat": 4,
 "nbformat_minor": 5
}
